{
 "cells": [
  {
   "cell_type": "code",
   "execution_count": null,
   "id": "5cc92a64",
   "metadata": {},
   "outputs": [],
   "source": [
    "import utils"
   ]
  },
  {
   "cell_type": "code",
   "execution_count": null,
   "id": "95e8553f",
   "metadata": {},
   "outputs": [],
   "source": [
    "feedback = utils.load_log('feedback')"
   ]
  },
  {
   "cell_type": "code",
   "execution_count": null,
   "id": "af2e9695",
   "metadata": {},
   "outputs": [],
   "source": [
    "removed = feedback[feedback.action == \"remove\"]\n",
    "highlights = feedback[feedback.action == \"create\"]\n",
    "\n",
    "# create column for highlight id\n",
    "for index, row in highlights.iterrows():\n",
    "    highlights.loc[index, \"id\"] = row[\"data\"][\"id\"]\n",
    "\n",
    "# remove deleted highlights\n",
    "highlights = highlights[~highlights[\"id\"].isin(removed.data)]"
   ]
  },
  {
   "cell_type": "code",
   "execution_count": null,
   "id": "b9f5a253",
   "metadata": {},
   "outputs": [],
   "source": [
    "for fb in highlights.data:\n",
    "    # remove newlines from note and selected text\n",
    "    note = fb[\"extra\"][\"text\"].replace('\\n', \" \") \n",
    "    text = fb[\"text\"].replace('\\n', \" \") \n",
    "\n",
    "    print(f\"User noted '{note}' on selected text: '{text}'\")"
   ]
  }
 ],
 "metadata": {
  "kernelspec": {
   "display_name": "Python 3.8.10 64-bit",
   "language": "python",
   "name": "python3"
  },
  "language_info": {
   "codemirror_mode": {
    "name": "ipython",
    "version": 3
   },
   "file_extension": ".py",
   "mimetype": "text/x-python",
   "name": "python",
   "nbconvert_exporter": "python",
   "pygments_lexer": "ipython3",
   "version": "3.8.10"
  },
  "vscode": {
   "interpreter": {
    "hash": "916dbcbb3f70747c44a77c7bcd40155683ae19c65e1c03b4aa3499c5328201f1"
   }
  }
 },
 "nbformat": 4,
 "nbformat_minor": 5
}
