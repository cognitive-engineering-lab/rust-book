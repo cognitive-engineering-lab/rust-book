{
 "cells": [
  {
   "cell_type": "code",
   "execution_count": 99,
   "id": "5cc92a64",
   "metadata": {},
   "outputs": [],
   "source": [
    "import utils"
   ]
  },
  {
   "cell_type": "code",
   "execution_count": 100,
   "id": "95e8553f",
   "metadata": {},
   "outputs": [],
   "source": [
    "feedback = utils.load_log('feedback')"
   ]
  },
  {
   "cell_type": "code",
   "execution_count": 103,
   "id": "af2e9695",
   "metadata": {},
   "outputs": [],
   "source": [
    "removed = feedback[feedback.action == \"remove\"]\n",
    "highlights = feedback[feedback.action == \"create\"]\n",
    "\n",
    "# create column for highlight id\n",
    "for index, row in highlights.iterrows():\n",
    "    highlights.loc[index, \"id\"] = row[\"data\"][\"id\"]\n",
    "\n",
    "# remove deleted highlights\n",
    "highlights = highlights[~highlights[\"id\"].isin(removed.data)]"
   ]
  },
  {
   "cell_type": "code",
   "execution_count": 104,
   "id": "b9f5a253",
   "metadata": {},
   "outputs": [
    {
     "name": "stdout",
     "output_type": "stream",
     "text": [
      "User noted 'What's up!' on selected text: 'highlighting'\n",
      "User noted 'wow :)' on selected text: ' Try highlighting this text! '\n",
      "User noted 'Нота' on selected text: 'Try highlighting this text!'\n",
      "User noted 'jkhjk' on selected text: 'It’s important that we get compile-time errors when we attempt to change a value that’s designated as immutable because this very situation can lead to bugs.'\n",
      "User noted '' on selected text: 'Try highlighting this text!'\n",
      "User noted '' on selected text: '👉 Try highlighting this text! 👈 '\n",
      "User noted 'Some highlight ' on selected text: 'Try highlighting this text!'\n",
      "User noted '101' on selected text: '👉 Try highlighting this text! 👈 '\n",
      "User noted 'Hi!  Ooh, newlines' on selected text: 'Try highlighting this text'\n",
      "User noted 'hi from JS' on selected text: 'Try highlighting this text! '\n",
      "User noted 'Command Line Applications' on selected text: 'CLI apps'\n",
      "User noted '!' on selected text: ' Try highlighting this text! '\n",
      "User noted '' on selected text: 'Try highlighting this text!'\n",
      "User noted 'fafafew' on selected text: 'Try highlighting this text!'\n",
      "User noted 'jopa' on selected text: 'Try highlighting this text! '\n",
      "User noted '' on selected text: ' Try highlighting this text!'\n",
      "User noted 'What if a learner takes this comment about Principia seriously? I guess you need to write something for the context, but this one isn't very learner-friendly.' on selected text: 'Principia Mathematica'\n",
      "User noted 'This bug icon & the real icon look different. This one is red with black spots, the other is black with a vague white blob.' on selected text: ' 🐞'\n",
      "User noted 'hilite' on selected text: '👉 Try highlighting this text! 👈 '\n",
      "User noted 'Not  true for the brown edition' on selected text: 'Note: This edition of the book is the same as The Rust Programming Language available in print and ebook format from No Starch Press.  '\n",
      "User noted '1. when I view quiz aanswers, I can't retake the quiz anymore. It'd be good to know that ahead of time 2. but if I refresh the page, I can take the quiz again ... i guess that should be prevented' on selected text: 'Every quiz looks like the one below. Try it out by clicking \"Start\". '\n",
      "User noted 'delete' on selected text: 'Note: your highlights may disappear if we change the content that you've highlighted. '\n",
      "User noted 'And click trashcan on a highlight to delete it' on selected text: 'optional comment.'\n",
      "User noted 'No quizzes in 1.1' on selected text: 'each page has a few quizzes'\n",
      "User noted 'Try highlightning' on selected text: 'Try highlighting this text! '\n",
      "User noted 'lol' on selected text: 'highlighting'\n",
      "User noted '' on selected text: 'Try highlighting this text!'\n",
      "User noted 'A comment' on selected text: 'Try highlighting this text! '\n",
      "User noted '' on selected text: 'highlighting'\n",
      "User noted 'Some note here ' on selected text: 'Try highlighting this text! '\n",
      "User noted 'Massa' on selected text: ' Try highlighting this text! '\n",
      "User noted 'Deez notes' on selected text: 'Try highlighting this text! '\n",
      "User noted 'Hmmm' on selected text: 'text'\n",
      "User noted 'That light sure is high' on selected text: 'Try highlighting this text!'\n",
      "User noted 'H' on selected text: 'highlighting this text'\n",
      "User noted 'Fafrue' on selected text: ' Try highlighting this text! '\n",
      "User noted 'Hi' on selected text: 'Try highlighting this text! 👈'\n",
      "User noted 'A comment' on selected text: ' Try highlighting this text'\n",
      "User noted 'Test note' on selected text: '👉 Try highlighting this text! 👈 '\n",
      "User noted 'test' on selected text: 'Try highlighting this text!'\n",
      "User noted '' on selected text: '👉 Try highlighting this text! 👈 '\n",
      "User noted 'Nice' on selected text: 'Try'\n",
      "User noted 'good ' on selected text: 'Try highlighting this text!'\n",
      "User noted 'Good! ' on selected text: '👉 Try highlighting this text! 👈 '\n",
      "User noted 'wow' on selected text: 'Try highlighting this text! '\n",
      "User noted 'hi' on selected text: ' Try highlighting this text! '\n",
      "User noted 'lkmlkmk' on selected text: ' Try highlighting this text!'\n",
      "User noted 'jil ' on selected text: ' Try highlighting this text! '\n",
      "User noted 'This has no string formatting param, does it not fail?' on selected text: '{}'\n",
      "User noted 'This is a note' on selected text: ' Try highlighting this text! '\n",
      "User noted '' on selected text: 'ce you select some te'\n",
      "User noted 'test' on selected text: ' Try highlighting this text!'\n",
      "User noted 'Cookie-stored highlights' on selected text: ' Try highlighting this text!'\n",
      "User noted '' on selected text: 'Try highlighting this text!'\n",
      "User noted '' on selected text: '👉 Try highlighting this text! 👈'\n",
      "User noted 'test highlight' on selected text: 'Try highlighting this text!'\n",
      "User noted 'A comment ' on selected text: 'Try highlighting this text!'\n",
      "User noted '' on selected text: 'highlighting'\n",
      "User noted 'blah blah blah' on selected text: '👉 Try highlighting this tex'\n",
      "User noted 'I'm highlighting this text' on selected text: ' Try highlighting this text!'\n",
      "User noted '' on selected text: 'ing: you can select any piece of text, and either highlight it or leave a comment about it. Once you se'\n",
      "User noted '' on selected text: ' Try highlighting this text!'\n",
      "User noted 'olar ' on selected text: 'Try highlighting this text!'\n",
      "User noted 'test' on selected text: 'Try highlighting this text!'\n",
      "User noted '22' on selected text: '👉 Try highlighting this text! 👈'\n",
      "User noted 'stuff' on selected text: 'Try highlighting this text! '\n",
      "User noted 'Let's try ' on selected text: 'Try'\n",
      "User noted '' on selected text: 'highlighting this text! 👈'\n",
      "User noted '23' on selected text: 'highlighting'\n",
      "User noted 'eerg' on selected text: 'the Rust Book experiment, and thank you for your participation! First, we want to introd'\n",
      "User noted 'rtj' on selected text: 'mechanic'\n",
      "User noted 'yes! ' on selected text: ' Try highlighting this text! 👈'\n",
      "User noted 'Foo' on selected text: 'highlighting'\n",
      "User noted 'Test' on selected text: ' Try highlighting this text! '\n",
      "User noted '' on selected text: 'immutable by default'\n",
      "User noted '' on selected text: 'references are immutable by default'\n",
      "User noted 'It's gonna be friday soon' on selected text: '👉 Try highlighting this text! 👈'\n",
      "User noted 'Just testing the notes' on selected text: 'Try highlighting this text!'\n",
      "User noted 'test note' on selected text: 'Try highlighting this text!'\n",
      "User noted '' on selected text: 'highlighting'\n"
     ]
    }
   ],
   "source": [
    "for fb in highlights.data:\n",
    "    # remove newlines from note and selected text\n",
    "    note = fb[\"extra\"][\"text\"].replace('\\n', \" \") \n",
    "    text = fb[\"text\"].replace('\\n', \" \") \n",
    "\n",
    "    print(f\"User noted '{note}' on selected text: '{text}'\")"
   ]
  }
 ],
 "metadata": {
  "kernelspec": {
   "display_name": "Python 3.8.10 64-bit",
   "language": "python",
   "name": "python3"
  },
  "language_info": {
   "codemirror_mode": {
    "name": "ipython",
    "version": 3
   },
   "file_extension": ".py",
   "mimetype": "text/x-python",
   "name": "python",
   "nbconvert_exporter": "python",
   "pygments_lexer": "ipython3",
   "version": "3.8.10"
  },
  "vscode": {
   "interpreter": {
    "hash": "916dbcbb3f70747c44a77c7bcd40155683ae19c65e1c03b4aa3499c5328201f1"
   }
  }
 },
 "nbformat": 4,
 "nbformat_minor": 5
}
